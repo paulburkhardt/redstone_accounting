{
 "cells": [
  {
   "cell_type": "code",
   "execution_count": null,
   "metadata": {},
   "outputs": [],
   "source": [
    "import pandas as pd\n",
    "\n",
    "data_file = 'data/easy.xlsx'\n",
    "\n",
    "df = pd.read_excel(data_file)"
   ]
  },
  {
   "cell_type": "code",
   "execution_count": null,
   "metadata": {},
   "outputs": [],
   "source": [
    "\n",
    "def filter1(df):\n",
    "    df['closed'] = False\n",
    "    for index_1, row_1 in df.iterrows():\n",
    "        value_1 = row_1['Betrag EUR']\n",
    "        for index_2, row_2 in df.iterrows():\n",
    "            value_2 = row_2['Betrag EUR']\n",
    "            if value_1 > 0 and value_2 > 0 or value_1 < 0 and value_2 < 0:\n",
    "                continue\n",
    "            if value_1 == (-1 * value_2) and not row_2['closed']:\n",
    "                df.at[index_1, 'closed'] = True\n",
    "                df.at[index_2, 'closed'] = True\n",
    "                \n",
    "\n",
    "filter1(df)\n",
    "\n",
    "\n",
    "df"
   ]
  },
  {
   "cell_type": "code",
   "execution_count": null,
   "metadata": {},
   "outputs": [],
   "source": [
    "df = df[~df['closed']]\n",
    "df"
   ]
  },
  {
   "cell_type": "code",
   "execution_count": null,
   "metadata": {},
   "outputs": [],
   "source": []
  }
 ],
 "metadata": {
  "kernelspec": {
   "display_name": ".venv",
   "language": "python",
   "name": "python3"
  },
  "language_info": {
   "codemirror_mode": {
    "name": "ipython",
    "version": 3
   },
   "file_extension": ".py",
   "mimetype": "text/x-python",
   "name": "python",
   "nbconvert_exporter": "python",
   "pygments_lexer": "ipython3",
   "version": "3.9.16"
  }
 },
 "nbformat": 4,
 "nbformat_minor": 2
}
